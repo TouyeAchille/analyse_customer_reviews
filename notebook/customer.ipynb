{
 "cells": [
  {
   "cell_type": "code",
   "execution_count": 1,
   "id": "c383c6be",
   "metadata": {},
   "outputs": [],
   "source": [
    "import pandas as pd"
   ]
  },
  {
   "cell_type": "code",
   "execution_count": 2,
   "id": "81107e12",
   "metadata": {},
   "outputs": [],
   "source": [
    "df=pd.read_csv(\"/workspaces/analyse_customer_reviews/datalake/text_reviews_dataset/airfrance_tripadvisor_reviews.csv\")"
   ]
  },
  {
   "cell_type": "code",
   "execution_count": 3,
   "id": "8aba865c",
   "metadata": {},
   "outputs": [
    {
     "name": "stdout",
     "output_type": "stream",
     "text": [
      "<class 'pandas.core.frame.DataFrame'>\n",
      "RangeIndex: 2560 entries, 0 to 2559\n",
      "Data columns (total 4 columns):\n",
      " #   Column         Non-Null Count  Dtype \n",
      "---  ------         --------------  ----- \n",
      " 0   rating         2560 non-null   int64 \n",
      " 1   title          2560 non-null   object\n",
      " 2   text           2560 non-null   object\n",
      " 3   publishedDate  2560 non-null   object\n",
      "dtypes: int64(1), object(3)\n",
      "memory usage: 80.1+ KB\n"
     ]
    }
   ],
   "source": [
    "df.info()"
   ]
  },
  {
   "cell_type": "code",
   "execution_count": 4,
   "id": "c4d52df9",
   "metadata": {},
   "outputs": [
    {
     "data": {
      "text/html": [
       "<div>\n",
       "<style scoped>\n",
       "    .dataframe tbody tr th:only-of-type {\n",
       "        vertical-align: middle;\n",
       "    }\n",
       "\n",
       "    .dataframe tbody tr th {\n",
       "        vertical-align: top;\n",
       "    }\n",
       "\n",
       "    .dataframe thead th {\n",
       "        text-align: right;\n",
       "    }\n",
       "</style>\n",
       "<table border=\"1\" class=\"dataframe\">\n",
       "  <thead>\n",
       "    <tr style=\"text-align: right;\">\n",
       "      <th></th>\n",
       "      <th>rating</th>\n",
       "      <th>title</th>\n",
       "      <th>text</th>\n",
       "      <th>publishedDate</th>\n",
       "    </tr>\n",
       "  </thead>\n",
       "  <tbody>\n",
       "    <tr>\n",
       "      <th>0</th>\n",
       "      <td>1</td>\n",
       "      <td>WORST AIRLINE</td>\n",
       "      <td>I travel a lot - and I travel often. Last week...</td>\n",
       "      <td>2024-11-13</td>\n",
       "    </tr>\n",
       "    <tr>\n",
       "      <th>1</th>\n",
       "      <td>1</td>\n",
       "      <td>Terrible experience with Airfrance</td>\n",
       "      <td>This review is regarding flight AF185, we book...</td>\n",
       "      <td>2024-11-13</td>\n",
       "    </tr>\n",
       "    <tr>\n",
       "      <th>2</th>\n",
       "      <td>1</td>\n",
       "      <td>Extremely Disappointing Experience with Air Fr...</td>\n",
       "      <td>I recently flew with Air France on flight #185...</td>\n",
       "      <td>2024-11-12</td>\n",
       "    </tr>\n",
       "    <tr>\n",
       "      <th>3</th>\n",
       "      <td>1</td>\n",
       "      <td>Horrible</td>\n",
       "      <td>Wow!!! What a horrible experience!! I've alway...</td>\n",
       "      <td>2024-11-11</td>\n",
       "    </tr>\n",
       "    <tr>\n",
       "      <th>4</th>\n",
       "      <td>1</td>\n",
       "      <td>The Worst Flight Experience I’ve Ever Had</td>\n",
       "      <td>I spent a fantastic 10-day vacation in Hong Ko...</td>\n",
       "      <td>2024-11-11</td>\n",
       "    </tr>\n",
       "  </tbody>\n",
       "</table>\n",
       "</div>"
      ],
      "text/plain": [
       "   rating                                              title  \\\n",
       "0       1                                      WORST AIRLINE   \n",
       "1       1                 Terrible experience with Airfrance   \n",
       "2       1  Extremely Disappointing Experience with Air Fr...   \n",
       "3       1                                           Horrible   \n",
       "4       1          The Worst Flight Experience I’ve Ever Had   \n",
       "\n",
       "                                                text publishedDate  \n",
       "0  I travel a lot - and I travel often. Last week...    2024-11-13  \n",
       "1  This review is regarding flight AF185, we book...    2024-11-13  \n",
       "2  I recently flew with Air France on flight #185...    2024-11-12  \n",
       "3  Wow!!! What a horrible experience!! I've alway...    2024-11-11  \n",
       "4  I spent a fantastic 10-day vacation in Hong Ko...    2024-11-11  "
      ]
     },
     "execution_count": 4,
     "metadata": {},
     "output_type": "execute_result"
    }
   ],
   "source": [
    "df.head()"
   ]
  },
  {
   "cell_type": "code",
   "execution_count": null,
   "id": "836c01e3",
   "metadata": {},
   "outputs": [
    {
     "data": {
      "text/plain": [
       "{'rating': 1,\n",
       " 'title': 'WORST AIRLINE',\n",
       " 'text': \"I travel a lot - and I travel often. Last week I flew from Texas USA to Paris to Algiers - and then back the same way for the return flight. First before my trip I purchased luggage checked luggage and then after 2 weeks I saw that it wasn't showing on my ticket. So I call customer service and they said yeah we don't see it here. I told them okay. I have the confirmation from PayPal and also I have confirmation on my bank statement that they took out the full payment for the luggage and still they wouldn't fix the issue. Finally 3 days before my flight I had to call again and they finally put it on my ticket that I had paid for it. Then at the airport they give me many additional security screenings and at the Paris airport they weigh your carry-on bags that includes the backpack I had and my small carry-on luggage which has to be under 12 kg. Mine was 14 so I either had to pay $400 to check the bag. The small carry-on luggage bag or throw away all my clothes so I ended up having to throw away all my clothes because I don't have an extra $400 laying around to spare for a small luggage. No other airline or airport has this type of insanity where they weigh your carry-on bags, including your purse or your backpack and your personal item on the plane. Only Air France does this and only the Paris airport. Does this no other airline ways even your personal items and then tries to charge you $400 to check it. Also the Air front staff is always rude except for the staff on the plane like the flight attendants. But the in airport staffs and any airport are always very rude and they don't like to help be helpful or give information. All the Air France flights leak condensation from the top. This happened on all Air France planes to and from my destination. Go look at the reviews for Air France and you will see that everyone that's posted in the past years had a terrible experience with Air France, planes, travel and employees and customer service. I will never fly Air Force again and many people come to me for travel advice because I travel very often and I will always tell people never to fly Air France.\",\n",
       " 'publishedDate': '2024-11-13'}"
      ]
     },
     "execution_count": 6,
     "metadata": {},
     "output_type": "execute_result"
    }
   ],
   "source": [
    "df.iloc[0].to_dict()"
   ]
  },
  {
   "cell_type": "code",
   "execution_count": 7,
   "id": "c3e2cb18",
   "metadata": {},
   "outputs": [
    {
     "data": {
      "text/plain": [
       "\"I travel a lot - and I travel often. Last week I flew from Texas USA to Paris to Algiers - and then back the same way for the return flight. First before my trip I purchased luggage checked luggage and then after 2 weeks I saw that it wasn't showing on my ticket. So I call customer service and they said yeah we don't see it here. I told them okay. I have the confirmation from PayPal and also I have confirmation on my bank statement that they took out the full payment for the luggage and still they wouldn't fix the issue. Finally 3 days before my flight I had to call again and they finally put it on my ticket that I had paid for it. Then at the airport they give me many additional security screenings and at the Paris airport they weigh your carry-on bags that includes the backpack I had and my small carry-on luggage which has to be under 12 kg. Mine was 14 so I either had to pay $400 to check the bag. The small carry-on luggage bag or throw away all my clothes so I ended up having to throw away all my clothes because I don't have an extra $400 laying around to spare for a small luggage. No other airline or airport has this type of insanity where they weigh your carry-on bags, including your purse or your backpack and your personal item on the plane. Only Air France does this and only the Paris airport. Does this no other airline ways even your personal items and then tries to charge you $400 to check it. Also the Air front staff is always rude except for the staff on the plane like the flight attendants. But the in airport staffs and any airport are always very rude and they don't like to help be helpful or give information. All the Air France flights leak condensation from the top. This happened on all Air France planes to and from my destination. Go look at the reviews for Air France and you will see that everyone that's posted in the past years had a terrible experience with Air France, planes, travel and employees and customer service. I will never fly Air Force again and many people come to me for travel advice because I travel very often and I will always tell people never to fly Air France.\""
      ]
     },
     "execution_count": 7,
     "metadata": {},
     "output_type": "execute_result"
    }
   ],
   "source": [
    "df.iloc[0].to_dict()[\"text\"]"
   ]
  }
 ],
 "metadata": {
  "kernelspec": {
   "display_name": "venv",
   "language": "python",
   "name": "python3"
  },
  "language_info": {
   "codemirror_mode": {
    "name": "ipython",
    "version": 3
   },
   "file_extension": ".py",
   "mimetype": "text/x-python",
   "name": "python",
   "nbconvert_exporter": "python",
   "pygments_lexer": "ipython3",
   "version": "3.12.9"
  }
 },
 "nbformat": 4,
 "nbformat_minor": 5
}
